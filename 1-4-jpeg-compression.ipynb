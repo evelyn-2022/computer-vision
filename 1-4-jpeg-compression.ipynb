{
 "cells": [
  {
   "cell_type": "markdown",
   "metadata": {},
   "source": [
    "Write a Python function that takes as input an 8x8 numpy array of random pixel values and a 8x8 numpy array of quantization values, and returns the quantized 8x8 DCT coefficients."
   ]
  },
  {
   "cell_type": "markdown",
   "metadata": {},
   "source": [
    "$F_c(u,v)=\\alpha_{u,v}\\sum_{x=0}^{7}\\sum_{y=0}^7f_c(x,y)\\cos(\\frac{(2x+1)u\\pi}{16}) \\cos(\\frac{(2y+1)v\\pi}{16})$\n",
    "\n",
    "$\\alpha_{u,v}=\\alpha_u\\alpha_v$\n",
    "\n",
    "$\\alpha_u,\\alpha_v=\\left\\{\\begin{array}{ll} \\sqrt{1/8} \\quad if \\; u=0 \\\\ \\sqrt{2/8} \\quad otherwise \\end{array} \\right.$"
   ]
  },
  {
   "cell_type": "code",
   "execution_count": 1,
   "metadata": {},
   "outputs": [],
   "source": [
    "import numpy as np"
   ]
  },
  {
   "cell_type": "code",
   "execution_count": 2,
   "metadata": {},
   "outputs": [],
   "source": [
    "def dct2(B, Q):\n",
    "    D = np.zeros((8, 8)) # initialize\n",
    "    y,x = np.meshgrid(np.arange(1,9,1), np.arange(1,9,1))\n",
    "    for i in range(1,9):\n",
    "        for j in range(1,9):\n",
    "            ai = np.sqrt(1/8) if i == 1 else np.sqrt(2/8)\n",
    "            aj = np.sqrt(1/8) if j == 1 else np.sqrt(2/8)\n",
    "            D[i-1,j-1] = ai * aj * np.sum(np.sum(B * np.cos(np.pi*(2*x-1)*(i-1)/16) * np.cos(np.pi*(2*y-1)*(j-1)/16)))\n",
    "\n",
    "        return np.array(D/Q, dtype=int) # quantize"
   ]
  },
  {
   "cell_type": "markdown",
   "metadata": {},
   "source": [
    "What does `np.meshgrid(np.arange(1,9,1), np.arange(1,9,1))` do: \n",
    "- `np.arange(1, 9, 1)`: This generates a 1D array of values from 1 to 8 (inclusive). This will be the range of indices for both the x-axis and y-axis.  \n",
    "    `np.arange(1, 9, 1)` creates the array [1, 2, 3, 4, 5, 6, 7, 8].\n",
    "- `np.meshgrid()`: This function takes two 1D arrays (the range of x and y values) and creates two 2D matrices from them. One matrix (x) contains the x-coordinates of the grid, and the other matrix (y) contains the y-coordinates.\n",
    "    - The array x will contain the x-coordinates repeated across the rows.\n",
    "    - The array y will contain the y-coordinates repeated across the columns.  \n",
    "        - x will be:  \n",
    "        [[1 2 3 4 5 6 7 8]  \n",
    "        [1 2 3 4 5 6 7 8]  \n",
    "        [1 2 3 4 5 6 7 8]  \n",
    "        [1 2 3 4 5 6 7 8]  \n",
    "        [1 2 3 4 5 6 7 8]  \n",
    "        [1 2 3 4 5 6 7 8]  \n",
    "        [1 2 3 4 5 6 7 8]  \n",
    "        [1 2 3 4 5 6 7 8]]  \n",
    "\n",
    "        - y will be:  \n",
    "        [[1 1 1 1 1 1 1 1]  \n",
    "        [2 2 2 2 2 2 2 2]  \n",
    "        [3 3 3 3 3 3 3 3]  \n",
    "        [4 4 4 4 4 4 4 4]  \n",
    "        [5 5 5 5 5 5 5 5]  \n",
    "        [6 6 6 6 6 6 6 6]  \n",
    "        [7 7 7 7 7 7 7 7]  \n",
    "        [8 8 8 8 8 8 8 8]]  "
   ]
  },
  {
   "cell_type": "code",
   "execution_count": 3,
   "metadata": {},
   "outputs": [
    {
     "name": "stdout",
     "output_type": "stream",
     "text": [
      "[[500 -45 -58  54 -24 -56   3  18]\n",
      " [  0   0   0   0   0   0   0   0]\n",
      " [  0   0   0   0   0   0   0   0]\n",
      " [  0   0   0   0   0   0   0   0]\n",
      " [  0   0   0   0   0   0   0   0]\n",
      " [  0   0   0   0   0   0   0   0]\n",
      " [  0   0   0   0   0   0   0   0]\n",
      " [  0   0   0   0   0   0   0   0]]\n"
     ]
    }
   ],
   "source": [
    "B = 255*np.random.rand(8,8) # random 8x8 block\n",
    "Q = 2*np.ones((8,8)) # quantization table\n",
    "res = dct2(B, Q) # apply DCT and quantization\n",
    "print(res)"
   ]
  }
 ],
 "metadata": {
  "kernelspec": {
   "display_name": ".venv",
   "language": "python",
   "name": "python3"
  },
  "language_info": {
   "codemirror_mode": {
    "name": "ipython",
    "version": 3
   },
   "file_extension": ".py",
   "mimetype": "text/x-python",
   "name": "python",
   "nbconvert_exporter": "python",
   "pygments_lexer": "ipython3",
   "version": "3.12.5"
  }
 },
 "nbformat": 4,
 "nbformat_minor": 2
}
